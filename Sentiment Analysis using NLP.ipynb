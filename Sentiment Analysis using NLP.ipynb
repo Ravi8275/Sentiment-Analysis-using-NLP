{
 "cells": [
  {
   "cell_type": "markdown",
   "id": "33c9d0d9-fdef-4659-ade0-fa89e4737d25",
   "metadata": {},
   "source": [
    "# About Dataset"
   ]
  },
  {
   "cell_type": "markdown",
   "id": "bc63a7d2-a1d7-4cf1-ab04-05586c8f0071",
   "metadata": {},
   "source": [
    "Dataset Link : https://www.kaggle.com/datasets/mdismielhossenabir/sentiment-analysis?resource=download"
   ]
  },
  {
   "cell_type": "markdown",
   "id": "bdfc1705-b252-4795-99b7-3c85de42c44b",
   "metadata": {},
   "source": [
    "This Dataset provides information about posts from various social media platforms(Facebook,instagram,twitter).Provided with the dataset are seven columns including the textual information of the particular post."
   ]
  },
  {
   "cell_type": "markdown",
   "id": "f603da32-d504-423a-8c98-813964871890",
   "metadata": {},
   "source": [
    "# About Sentiment Analysis algorithm"
   ]
  },
  {
   "cell_type": "markdown",
   "id": "6ca1a3ed-0ba5-49a3-8f8b-c7da43a18088",
   "metadata": {},
   "source": [
    "This project/algorithm focuses on developing a sentiment analysis system for social media posts. Using Natural language processing techniques the model segregates the new/future posts into different sentiment categories. The steps performed in the construction of the model is mentioned below\n",
    "\n",
    "- Pandas library is used to load and read the dataset csv file and to convert it into a data frame for further analysis\n",
    "- A small data analysis is performed to have a glance at the dataset\n",
    "- Only features of interest were considered for feature engineering and model construction\n",
    "- Features like date, time of tweet, and platform have nothing to do with the sentiment type of textual post, these features are ignored\n",
    "- Here considered only text as a feature sample and sentiment as the target variable\n",
    "- To feed the textual information to the model it has to be vectorized. Two techniques were used here to complete the task i.e. TFIDF(Term frequency-inverse document frequency) and Bag of Words.\n",
    "- Reason to consider TFIDF as it reduces the importance of regular words and provides more vector score to rare but important words throughout the corpus\n",
    "- Tried using a Bag of words as it is a simple technique for vectorization.\n",
    "- Prior to performing the vectorization the entire dataset is split into train and test dataset using the train test split method from Scikit Learn (also for vectorization techniques and classification models)\n",
    "- After performing the feature engineering i.e vectorization the vectors of the train text data is fed to the model along with its target variable.\n",
    "- Naive Bayes Multi classifier is chosen as the classification algorithm for its in-depth segregation capabilities.\n",
    "- After training the model a similar vectorization is performed to test the data set and fed to the model for prediction.\n",
    "- Here Accuracy and Confusion matrix from Scikit Learn are used as Evaluation Metrics for the Model."
   ]
  },
  {
   "cell_type": "markdown",
   "id": "c8633d24-e450-4d32-b15a-a1b3257e8d23",
   "metadata": {},
   "source": [
    "# Necessary Imports"
   ]
  },
  {
   "cell_type": "code",
   "execution_count": 96,
   "id": "3b9b17d5-c2b5-4ff6-aae4-386726be76e8",
   "metadata": {},
   "outputs": [],
   "source": [
    "import pandas as pd\n",
    "from sklearn.feature_extraction.text import TfidfVectorizer\n",
    "from sklearn.model_selection import train_test_split\n",
    "from sklearn.linear_model import LogisticRegression\n",
    "from sklearn.naive_bayes import MultinomialNB\n",
    "from sklearn.metrics import confusion_matrix,accuracy_score\n",
    "from sklearn.feature_extraction.text import CountVectorizer\n",
    "import seaborn as sns\n",
    "import matplotlib.pyplot as plt"
   ]
  },
  {
   "cell_type": "code",
   "execution_count": 3,
   "id": "f192dba2-e08c-491f-9b3b-345da41ee17a",
   "metadata": {},
   "outputs": [],
   "source": [
    "#Reading the Dataset\n",
    "dataset=pd.read_csv('sentiment_analysis.csv')"
   ]
  },
  {
   "cell_type": "code",
   "execution_count": 4,
   "id": "8f009db6-eae8-4bea-b7ae-c74f92f39443",
   "metadata": {},
   "outputs": [
    {
     "data": {
      "text/html": [
       "<div>\n",
       "<style scoped>\n",
       "    .dataframe tbody tr th:only-of-type {\n",
       "        vertical-align: middle;\n",
       "    }\n",
       "\n",
       "    .dataframe tbody tr th {\n",
       "        vertical-align: top;\n",
       "    }\n",
       "\n",
       "    .dataframe thead th {\n",
       "        text-align: right;\n",
       "    }\n",
       "</style>\n",
       "<table border=\"1\" class=\"dataframe\">\n",
       "  <thead>\n",
       "    <tr style=\"text-align: right;\">\n",
       "      <th></th>\n",
       "      <th>Year</th>\n",
       "      <th>Month</th>\n",
       "      <th>Day</th>\n",
       "      <th>Time of Tweet</th>\n",
       "      <th>text</th>\n",
       "      <th>sentiment</th>\n",
       "      <th>Platform</th>\n",
       "    </tr>\n",
       "  </thead>\n",
       "  <tbody>\n",
       "    <tr>\n",
       "      <th>0</th>\n",
       "      <td>2018</td>\n",
       "      <td>8</td>\n",
       "      <td>18</td>\n",
       "      <td>morning</td>\n",
       "      <td>What a great day!!! Looks like dream.</td>\n",
       "      <td>positive</td>\n",
       "      <td>Twitter</td>\n",
       "    </tr>\n",
       "    <tr>\n",
       "      <th>1</th>\n",
       "      <td>2018</td>\n",
       "      <td>8</td>\n",
       "      <td>18</td>\n",
       "      <td>noon</td>\n",
       "      <td>I feel sorry, I miss you here in the sea beach</td>\n",
       "      <td>positive</td>\n",
       "      <td>Facebook</td>\n",
       "    </tr>\n",
       "    <tr>\n",
       "      <th>2</th>\n",
       "      <td>2017</td>\n",
       "      <td>8</td>\n",
       "      <td>18</td>\n",
       "      <td>night</td>\n",
       "      <td>Don't angry me</td>\n",
       "      <td>negative</td>\n",
       "      <td>Facebook</td>\n",
       "    </tr>\n",
       "    <tr>\n",
       "      <th>3</th>\n",
       "      <td>2022</td>\n",
       "      <td>6</td>\n",
       "      <td>8</td>\n",
       "      <td>morning</td>\n",
       "      <td>We attend in the class just for listening teac...</td>\n",
       "      <td>negative</td>\n",
       "      <td>Facebook</td>\n",
       "    </tr>\n",
       "    <tr>\n",
       "      <th>4</th>\n",
       "      <td>2022</td>\n",
       "      <td>6</td>\n",
       "      <td>8</td>\n",
       "      <td>noon</td>\n",
       "      <td>Those who want to go, let them go</td>\n",
       "      <td>negative</td>\n",
       "      <td>Instagram</td>\n",
       "    </tr>\n",
       "    <tr>\n",
       "      <th>...</th>\n",
       "      <td>...</td>\n",
       "      <td>...</td>\n",
       "      <td>...</td>\n",
       "      <td>...</td>\n",
       "      <td>...</td>\n",
       "      <td>...</td>\n",
       "      <td>...</td>\n",
       "    </tr>\n",
       "    <tr>\n",
       "      <th>494</th>\n",
       "      <td>2015</td>\n",
       "      <td>10</td>\n",
       "      <td>18</td>\n",
       "      <td>night</td>\n",
       "      <td>According to , a quarter of families under six...</td>\n",
       "      <td>negative</td>\n",
       "      <td>Twitter</td>\n",
       "    </tr>\n",
       "    <tr>\n",
       "      <th>495</th>\n",
       "      <td>2021</td>\n",
       "      <td>2</td>\n",
       "      <td>25</td>\n",
       "      <td>morning</td>\n",
       "      <td>the plan to not spend money is not going well</td>\n",
       "      <td>negative</td>\n",
       "      <td>Instagram</td>\n",
       "    </tr>\n",
       "    <tr>\n",
       "      <th>496</th>\n",
       "      <td>2022</td>\n",
       "      <td>5</td>\n",
       "      <td>30</td>\n",
       "      <td>noon</td>\n",
       "      <td>uploading all my bamboozle pictures of facebook</td>\n",
       "      <td>neutral</td>\n",
       "      <td>Facebook</td>\n",
       "    </tr>\n",
       "    <tr>\n",
       "      <th>497</th>\n",
       "      <td>2018</td>\n",
       "      <td>8</td>\n",
       "      <td>10</td>\n",
       "      <td>night</td>\n",
       "      <td>congratulations ! you guys finish a month ear...</td>\n",
       "      <td>positive</td>\n",
       "      <td>Twitter</td>\n",
       "    </tr>\n",
       "    <tr>\n",
       "      <th>498</th>\n",
       "      <td>2019</td>\n",
       "      <td>3</td>\n",
       "      <td>25</td>\n",
       "      <td>morning</td>\n",
       "      <td>actually, I wish I was back in Tahoe.  I miss...</td>\n",
       "      <td>negative</td>\n",
       "      <td>Instagram</td>\n",
       "    </tr>\n",
       "  </tbody>\n",
       "</table>\n",
       "<p>499 rows × 7 columns</p>\n",
       "</div>"
      ],
      "text/plain": [
       "     Year  Month  Day Time of Tweet  \\\n",
       "0    2018      8   18       morning   \n",
       "1    2018      8   18          noon   \n",
       "2    2017      8   18         night   \n",
       "3    2022      6    8       morning   \n",
       "4    2022      6    8          noon   \n",
       "..    ...    ...  ...           ...   \n",
       "494  2015     10   18         night   \n",
       "495  2021      2   25       morning   \n",
       "496  2022      5   30          noon   \n",
       "497  2018      8   10         night   \n",
       "498  2019      3   25       morning   \n",
       "\n",
       "                                                  text sentiment     Platform  \n",
       "0                What a great day!!! Looks like dream.  positive    Twitter    \n",
       "1       I feel sorry, I miss you here in the sea beach  positive    Facebook   \n",
       "2                                       Don't angry me  negative     Facebook  \n",
       "3    We attend in the class just for listening teac...  negative    Facebook   \n",
       "4                    Those who want to go, let them go  negative   Instagram   \n",
       "..                                                 ...       ...          ...  \n",
       "494  According to , a quarter of families under six...  negative     Twitter   \n",
       "495      the plan to not spend money is not going well  negative   Instagram   \n",
       "496    uploading all my bamboozle pictures of facebook   neutral    Facebook   \n",
       "497   congratulations ! you guys finish a month ear...  positive     Twitter   \n",
       "498   actually, I wish I was back in Tahoe.  I miss...  negative   Instagram   \n",
       "\n",
       "[499 rows x 7 columns]"
      ]
     },
     "execution_count": 4,
     "metadata": {},
     "output_type": "execute_result"
    }
   ],
   "source": [
    "dataset"
   ]
  },
  {
   "cell_type": "code",
   "execution_count": 5,
   "id": "06643e7f-4d7a-4927-baff-798fe5bf5e20",
   "metadata": {},
   "outputs": [],
   "source": [
    "#Converting to pandas dataframe\n",
    "df=pd.DataFrame(dataset)"
   ]
  },
  {
   "cell_type": "markdown",
   "id": "59f3e533-636c-4bdd-a3a0-1f8349077452",
   "metadata": {},
   "source": [
    "# Glance at the Dataset"
   ]
  },
  {
   "cell_type": "code",
   "execution_count": 42,
   "id": "bb026c4f-818e-4cad-880a-8512cc1cb738",
   "metadata": {},
   "outputs": [
    {
     "data": {
      "text/html": [
       "<div>\n",
       "<style scoped>\n",
       "    .dataframe tbody tr th:only-of-type {\n",
       "        vertical-align: middle;\n",
       "    }\n",
       "\n",
       "    .dataframe tbody tr th {\n",
       "        vertical-align: top;\n",
       "    }\n",
       "\n",
       "    .dataframe thead th {\n",
       "        text-align: right;\n",
       "    }\n",
       "</style>\n",
       "<table border=\"1\" class=\"dataframe\">\n",
       "  <thead>\n",
       "    <tr style=\"text-align: right;\">\n",
       "      <th></th>\n",
       "      <th>Year</th>\n",
       "      <th>Month</th>\n",
       "      <th>Day</th>\n",
       "      <th>Time of Tweet</th>\n",
       "      <th>text</th>\n",
       "      <th>sentiment</th>\n",
       "      <th>Platform</th>\n",
       "    </tr>\n",
       "  </thead>\n",
       "  <tbody>\n",
       "    <tr>\n",
       "      <th>0</th>\n",
       "      <td>2018</td>\n",
       "      <td>8</td>\n",
       "      <td>18</td>\n",
       "      <td>morning</td>\n",
       "      <td>What a great day!!! Looks like dream.</td>\n",
       "      <td>positive</td>\n",
       "      <td>Twitter</td>\n",
       "    </tr>\n",
       "    <tr>\n",
       "      <th>1</th>\n",
       "      <td>2018</td>\n",
       "      <td>8</td>\n",
       "      <td>18</td>\n",
       "      <td>noon</td>\n",
       "      <td>I feel sorry, I miss you here in the sea beach</td>\n",
       "      <td>positive</td>\n",
       "      <td>Facebook</td>\n",
       "    </tr>\n",
       "    <tr>\n",
       "      <th>2</th>\n",
       "      <td>2017</td>\n",
       "      <td>8</td>\n",
       "      <td>18</td>\n",
       "      <td>night</td>\n",
       "      <td>Don't angry me</td>\n",
       "      <td>negative</td>\n",
       "      <td>Facebook</td>\n",
       "    </tr>\n",
       "    <tr>\n",
       "      <th>3</th>\n",
       "      <td>2022</td>\n",
       "      <td>6</td>\n",
       "      <td>8</td>\n",
       "      <td>morning</td>\n",
       "      <td>We attend in the class just for listening teac...</td>\n",
       "      <td>negative</td>\n",
       "      <td>Facebook</td>\n",
       "    </tr>\n",
       "    <tr>\n",
       "      <th>4</th>\n",
       "      <td>2022</td>\n",
       "      <td>6</td>\n",
       "      <td>8</td>\n",
       "      <td>noon</td>\n",
       "      <td>Those who want to go, let them go</td>\n",
       "      <td>negative</td>\n",
       "      <td>Instagram</td>\n",
       "    </tr>\n",
       "  </tbody>\n",
       "</table>\n",
       "</div>"
      ],
      "text/plain": [
       "   Year  Month  Day Time of Tweet  \\\n",
       "0  2018      8   18       morning   \n",
       "1  2018      8   18          noon   \n",
       "2  2017      8   18         night   \n",
       "3  2022      6    8       morning   \n",
       "4  2022      6    8          noon   \n",
       "\n",
       "                                                text sentiment     Platform  \n",
       "0              What a great day!!! Looks like dream.  positive    Twitter    \n",
       "1     I feel sorry, I miss you here in the sea beach  positive    Facebook   \n",
       "2                                     Don't angry me  negative     Facebook  \n",
       "3  We attend in the class just for listening teac...  negative    Facebook   \n",
       "4                  Those who want to go, let them go  negative   Instagram   "
      ]
     },
     "execution_count": 42,
     "metadata": {},
     "output_type": "execute_result"
    }
   ],
   "source": [
    "df.head()"
   ]
  },
  {
   "cell_type": "code",
   "execution_count": 40,
   "id": "086d85be-735e-4e1a-afa0-668bda561d5d",
   "metadata": {},
   "outputs": [
    {
     "name": "stdout",
     "output_type": "stream",
     "text": [
      "<class 'pandas.core.frame.DataFrame'>\n",
      "RangeIndex: 499 entries, 0 to 498\n",
      "Data columns (total 7 columns):\n",
      " #   Column         Non-Null Count  Dtype \n",
      "---  ------         --------------  ----- \n",
      " 0   Year           499 non-null    int64 \n",
      " 1   Month          499 non-null    int64 \n",
      " 2   Day            499 non-null    int64 \n",
      " 3   Time of Tweet  499 non-null    object\n",
      " 4   text           499 non-null    object\n",
      " 5   sentiment      499 non-null    object\n",
      " 6   Platform       499 non-null    object\n",
      "dtypes: int64(3), object(4)\n",
      "memory usage: 27.4+ KB\n"
     ]
    }
   ],
   "source": [
    "df.info()"
   ]
  },
  {
   "cell_type": "markdown",
   "id": "9ef93121-e8aa-48cf-96b6-25afe69922c0",
   "metadata": {},
   "source": [
    "- No missing values in the provided dataset"
   ]
  },
  {
   "cell_type": "code",
   "execution_count": 145,
   "id": "f99e1773-aeb5-45c2-8050-cea87fabcd89",
   "metadata": {},
   "outputs": [
    {
     "data": {
      "text/plain": [
       "sentiment\n",
       "neutral     199\n",
       "positive    166\n",
       "negative    134\n",
       "Name: count, dtype: int64"
      ]
     },
     "execution_count": 145,
     "metadata": {},
     "output_type": "execute_result"
    }
   ],
   "source": [
    "df['sentiment'].value_counts()"
   ]
  },
  {
   "cell_type": "markdown",
   "id": "168398b0-f0f2-4e80-816b-0ab7dc692d64",
   "metadata": {},
   "source": [
    "- So three different types of sentiments are considered for segregation of text "
   ]
  },
  {
   "cell_type": "code",
   "execution_count": 54,
   "id": "abd7108e-27f7-4a56-aa17-ddab11847e46",
   "metadata": {},
   "outputs": [
    {
     "data": {
      "text/html": [
       "<div>\n",
       "<style scoped>\n",
       "    .dataframe tbody tr th:only-of-type {\n",
       "        vertical-align: middle;\n",
       "    }\n",
       "\n",
       "    .dataframe tbody tr th {\n",
       "        vertical-align: top;\n",
       "    }\n",
       "\n",
       "    .dataframe thead th {\n",
       "        text-align: right;\n",
       "    }\n",
       "</style>\n",
       "<table border=\"1\" class=\"dataframe\">\n",
       "  <thead>\n",
       "    <tr style=\"text-align: right;\">\n",
       "      <th></th>\n",
       "      <th>text</th>\n",
       "    </tr>\n",
       "  </thead>\n",
       "  <tbody>\n",
       "    <tr>\n",
       "      <th>5</th>\n",
       "      <td>Its night 2 am, feeling neutral</td>\n",
       "    </tr>\n",
       "    <tr>\n",
       "      <th>7</th>\n",
       "      <td>Soooo high</td>\n",
       "    </tr>\n",
       "    <tr>\n",
       "      <th>8</th>\n",
       "      <td>Both of you</td>\n",
       "    </tr>\n",
       "    <tr>\n",
       "      <th>10</th>\n",
       "      <td>Love is something like E=MC^2 rules</td>\n",
       "    </tr>\n",
       "    <tr>\n",
       "      <th>14</th>\n",
       "      <td>Always somewhere I miss you where I have been</td>\n",
       "    </tr>\n",
       "    <tr>\n",
       "      <th>...</th>\n",
       "      <td>...</td>\n",
       "    </tr>\n",
       "    <tr>\n",
       "      <th>486</th>\n",
       "      <td>back soon, need to run to the shops and cut th...</td>\n",
       "    </tr>\n",
       "    <tr>\n",
       "      <th>487</th>\n",
       "      <td>I`m up. I have a plan to transform my bedroom ...</td>\n",
       "    </tr>\n",
       "    <tr>\n",
       "      <th>489</th>\n",
       "      <td>thats another sponsor</td>\n",
       "    </tr>\n",
       "    <tr>\n",
       "      <th>493</th>\n",
       "      <td>is home alone.. Doing hw</td>\n",
       "    </tr>\n",
       "    <tr>\n",
       "      <th>496</th>\n",
       "      <td>uploading all my bamboozle pictures of facebook</td>\n",
       "    </tr>\n",
       "  </tbody>\n",
       "</table>\n",
       "<p>199 rows × 1 columns</p>\n",
       "</div>"
      ],
      "text/plain": [
       "                                                  text\n",
       "5                      Its night 2 am, feeling neutral\n",
       "7                                           Soooo high\n",
       "8                                          Both of you\n",
       "10                 Love is something like E=MC^2 rules\n",
       "14       Always somewhere I miss you where I have been\n",
       "..                                                 ...\n",
       "486  back soon, need to run to the shops and cut th...\n",
       "487  I`m up. I have a plan to transform my bedroom ...\n",
       "489                              thats another sponsor\n",
       "493                           is home alone.. Doing hw\n",
       "496    uploading all my bamboozle pictures of facebook\n",
       "\n",
       "[199 rows x 1 columns]"
      ]
     },
     "execution_count": 54,
     "metadata": {},
     "output_type": "execute_result"
    }
   ],
   "source": [
    "Neutral_texts=df[df['sentiment']=='neutral']['text']\n",
    "pd.DataFrame(Neutral_texts)"
   ]
  },
  {
   "cell_type": "markdown",
   "id": "39d22688-f37d-4b53-8208-512f3f7bcf35",
   "metadata": {},
   "source": [
    "- Some of the Neutral texts"
   ]
  },
  {
   "cell_type": "markdown",
   "id": "5fae9dd6-c62c-4102-bf8d-95b68bc01306",
   "metadata": {},
   "source": [
    "# Feature selection"
   ]
  },
  {
   "cell_type": "markdown",
   "id": "0bb56f6c-33ba-447d-b51e-db5f22ab7d9b",
   "metadata": {},
   "source": [
    "Selecting the only columns of importance for feature engineering and model construnction"
   ]
  },
  {
   "cell_type": "code",
   "execution_count": 7,
   "id": "71f7f954-de18-40dd-a43d-02984d32cdf7",
   "metadata": {},
   "outputs": [],
   "source": [
    "X=df['text'] #Entire text column"
   ]
  },
  {
   "cell_type": "code",
   "execution_count": 12,
   "id": "8d9f2a02-a29a-4a0d-aac6-1b77395d66e4",
   "metadata": {},
   "outputs": [],
   "source": [
    "y=df['sentiment'] #target feature i.e Sentiment of the text"
   ]
  },
  {
   "cell_type": "code",
   "execution_count": 24,
   "id": "11728ca8-e2f2-4194-a74b-aeb68357edbb",
   "metadata": {},
   "outputs": [
    {
     "data": {
      "text/plain": [
       "0                  What a great day!!! Looks like dream.\n",
       "1         I feel sorry, I miss you here in the sea beach\n",
       "2                                         Don't angry me\n",
       "3      We attend in the class just for listening teac...\n",
       "4                      Those who want to go, let them go\n",
       "                             ...                        \n",
       "494    According to , a quarter of families under six...\n",
       "495        the plan to not spend money is not going well\n",
       "496      uploading all my bamboozle pictures of facebook\n",
       "497     congratulations ! you guys finish a month ear...\n",
       "498     actually, I wish I was back in Tahoe.  I miss...\n",
       "Name: text, Length: 499, dtype: object"
      ]
     },
     "execution_count": 24,
     "metadata": {},
     "output_type": "execute_result"
    }
   ],
   "source": [
    "X"
   ]
  },
  {
   "cell_type": "code",
   "execution_count": 25,
   "id": "fa7f8804-4bf1-4358-bcd3-a88ced2e413c",
   "metadata": {},
   "outputs": [
    {
     "data": {
      "text/plain": [
       "0      positive\n",
       "1      positive\n",
       "2      negative\n",
       "3      negative\n",
       "4      negative\n",
       "         ...   \n",
       "494    negative\n",
       "495    negative\n",
       "496     neutral\n",
       "497    positive\n",
       "498    negative\n",
       "Name: sentiment, Length: 499, dtype: object"
      ]
     },
     "execution_count": 25,
     "metadata": {},
     "output_type": "execute_result"
    }
   ],
   "source": [
    "y"
   ]
  },
  {
   "cell_type": "markdown",
   "id": "f7173801-eec8-4ad1-8f82-ff1c9394e7f9",
   "metadata": {},
   "source": [
    "# Data Split"
   ]
  },
  {
   "cell_type": "code",
   "execution_count": 59,
   "id": "91caa5d0-90ec-4760-9ac7-5c20009eca82",
   "metadata": {},
   "outputs": [],
   "source": [
    "X_train,X_test,y_train,y_test=train_test_split(X,y,test_size=0.40,random_state=42)"
   ]
  },
  {
   "cell_type": "markdown",
   "id": "6eacfa9a-cebd-494f-8118-2478784963de",
   "metadata": {},
   "source": [
    "# Feature Engineering with TFIDF"
   ]
  },
  {
   "cell_type": "markdown",
   "id": "6f8ae222-4c4f-40a6-b040-94a107e1eb69",
   "metadata": {},
   "source": [
    "- Using TFIDF to convert text to vectors considering the importance of each word(on the basis of it's occurence in each text and overall texts) "
   ]
  },
  {
   "cell_type": "code",
   "execution_count": 60,
   "id": "507cac81-56cf-4d88-b8da-9412c9603bc4",
   "metadata": {},
   "outputs": [],
   "source": [
    "tfidf=TfidfVectorizer(stop_words='english')"
   ]
  },
  {
   "cell_type": "code",
   "execution_count": 66,
   "id": "11054dec-cb3c-42a6-bf38-dff4002b1a96",
   "metadata": {},
   "outputs": [],
   "source": [
    "#Assiging the tfidf scores to words\n",
    "X_train_tfidf=tfidf.fit_transform(X_train)\n",
    "X_test_tfidf=tfidf.transform(X_test)"
   ]
  },
  {
   "cell_type": "markdown",
   "id": "89bd6c3c-5697-4a0d-8197-81f0b45e9504",
   "metadata": {},
   "source": [
    "# # Feature Engineering with BAG of WORDS"
   ]
  },
  {
   "cell_type": "code",
   "execution_count": 69,
   "id": "11be5987-a302-447c-8852-f24006664f24",
   "metadata": {},
   "outputs": [],
   "source": [
    "BOW=CountVectorizer(stop_words='english')"
   ]
  },
  {
   "cell_type": "code",
   "execution_count": 70,
   "id": "56cef64d-cfe2-46cf-9655-d44a98d9b613",
   "metadata": {},
   "outputs": [],
   "source": [
    "X_train_bow=BOW.fit_transform(X_train)\n",
    "X_test_bow=BOW.transform(X_test)"
   ]
  },
  {
   "cell_type": "markdown",
   "id": "5322e55a-3b69-49e1-9533-509c5a6a83f7",
   "metadata": {},
   "source": [
    "# Model Construction"
   ]
  },
  {
   "cell_type": "code",
   "execution_count": 97,
   "id": "eb18867e-c5dc-4d7e-86d5-6422a3d720b7",
   "metadata": {},
   "outputs": [],
   "source": [
    "model=MultinomialNB()"
   ]
  },
  {
   "cell_type": "code",
   "execution_count": 98,
   "id": "adeb57f3-91f8-4faa-aa96-e58fa5391d21",
   "metadata": {},
   "outputs": [
    {
     "data": {
      "text/html": [
       "<style>#sk-container-id-7 {color: black;}#sk-container-id-7 pre{padding: 0;}#sk-container-id-7 div.sk-toggleable {background-color: white;}#sk-container-id-7 label.sk-toggleable__label {cursor: pointer;display: block;width: 100%;margin-bottom: 0;padding: 0.3em;box-sizing: border-box;text-align: center;}#sk-container-id-7 label.sk-toggleable__label-arrow:before {content: \"▸\";float: left;margin-right: 0.25em;color: #696969;}#sk-container-id-7 label.sk-toggleable__label-arrow:hover:before {color: black;}#sk-container-id-7 div.sk-estimator:hover label.sk-toggleable__label-arrow:before {color: black;}#sk-container-id-7 div.sk-toggleable__content {max-height: 0;max-width: 0;overflow: hidden;text-align: left;background-color: #f0f8ff;}#sk-container-id-7 div.sk-toggleable__content pre {margin: 0.2em;color: black;border-radius: 0.25em;background-color: #f0f8ff;}#sk-container-id-7 input.sk-toggleable__control:checked~div.sk-toggleable__content {max-height: 200px;max-width: 100%;overflow: auto;}#sk-container-id-7 input.sk-toggleable__control:checked~label.sk-toggleable__label-arrow:before {content: \"▾\";}#sk-container-id-7 div.sk-estimator input.sk-toggleable__control:checked~label.sk-toggleable__label {background-color: #d4ebff;}#sk-container-id-7 div.sk-label input.sk-toggleable__control:checked~label.sk-toggleable__label {background-color: #d4ebff;}#sk-container-id-7 input.sk-hidden--visually {border: 0;clip: rect(1px 1px 1px 1px);clip: rect(1px, 1px, 1px, 1px);height: 1px;margin: -1px;overflow: hidden;padding: 0;position: absolute;width: 1px;}#sk-container-id-7 div.sk-estimator {font-family: monospace;background-color: #f0f8ff;border: 1px dotted black;border-radius: 0.25em;box-sizing: border-box;margin-bottom: 0.5em;}#sk-container-id-7 div.sk-estimator:hover {background-color: #d4ebff;}#sk-container-id-7 div.sk-parallel-item::after {content: \"\";width: 100%;border-bottom: 1px solid gray;flex-grow: 1;}#sk-container-id-7 div.sk-label:hover label.sk-toggleable__label {background-color: #d4ebff;}#sk-container-id-7 div.sk-serial::before {content: \"\";position: absolute;border-left: 1px solid gray;box-sizing: border-box;top: 0;bottom: 0;left: 50%;z-index: 0;}#sk-container-id-7 div.sk-serial {display: flex;flex-direction: column;align-items: center;background-color: white;padding-right: 0.2em;padding-left: 0.2em;position: relative;}#sk-container-id-7 div.sk-item {position: relative;z-index: 1;}#sk-container-id-7 div.sk-parallel {display: flex;align-items: stretch;justify-content: center;background-color: white;position: relative;}#sk-container-id-7 div.sk-item::before, #sk-container-id-7 div.sk-parallel-item::before {content: \"\";position: absolute;border-left: 1px solid gray;box-sizing: border-box;top: 0;bottom: 0;left: 50%;z-index: -1;}#sk-container-id-7 div.sk-parallel-item {display: flex;flex-direction: column;z-index: 1;position: relative;background-color: white;}#sk-container-id-7 div.sk-parallel-item:first-child::after {align-self: flex-end;width: 50%;}#sk-container-id-7 div.sk-parallel-item:last-child::after {align-self: flex-start;width: 50%;}#sk-container-id-7 div.sk-parallel-item:only-child::after {width: 0;}#sk-container-id-7 div.sk-dashed-wrapped {border: 1px dashed gray;margin: 0 0.4em 0.5em 0.4em;box-sizing: border-box;padding-bottom: 0.4em;background-color: white;}#sk-container-id-7 div.sk-label label {font-family: monospace;font-weight: bold;display: inline-block;line-height: 1.2em;}#sk-container-id-7 div.sk-label-container {text-align: center;}#sk-container-id-7 div.sk-container {/* jupyter's `normalize.less` sets `[hidden] { display: none; }` but bootstrap.min.css set `[hidden] { display: none !important; }` so we also need the `!important` here to be able to override the default hidden behavior on the sphinx rendered scikit-learn.org. See: https://github.com/scikit-learn/scikit-learn/issues/21755 */display: inline-block !important;position: relative;}#sk-container-id-7 div.sk-text-repr-fallback {display: none;}</style><div id=\"sk-container-id-7\" class=\"sk-top-container\"><div class=\"sk-text-repr-fallback\"><pre>MultinomialNB()</pre><b>In a Jupyter environment, please rerun this cell to show the HTML representation or trust the notebook. <br />On GitHub, the HTML representation is unable to render, please try loading this page with nbviewer.org.</b></div><div class=\"sk-container\" hidden><div class=\"sk-item\"><div class=\"sk-estimator sk-toggleable\"><input class=\"sk-toggleable__control sk-hidden--visually\" id=\"sk-estimator-id-7\" type=\"checkbox\" checked><label for=\"sk-estimator-id-7\" class=\"sk-toggleable__label sk-toggleable__label-arrow\">MultinomialNB</label><div class=\"sk-toggleable__content\"><pre>MultinomialNB()</pre></div></div></div></div></div>"
      ],
      "text/plain": [
       "MultinomialNB()"
      ]
     },
     "execution_count": 98,
     "metadata": {},
     "output_type": "execute_result"
    }
   ],
   "source": [
    "model.fit(X_train_tfidf,y_train)"
   ]
  },
  {
   "cell_type": "markdown",
   "id": "fbacd0bf-dcb5-4fb2-851f-d84ad2d8e493",
   "metadata": {},
   "source": [
    "# Model Evaluation for test Dataset"
   ]
  },
  {
   "cell_type": "code",
   "execution_count": 99,
   "id": "f3ff3073-0356-45ed-ae62-c4108eb240c4",
   "metadata": {},
   "outputs": [],
   "source": [
    "y_pred=model.predict(X_test_tfidf)"
   ]
  },
  {
   "cell_type": "markdown",
   "id": "4e2f8688-2303-4269-a86b-9d1c64633fd4",
   "metadata": {},
   "source": [
    "# Evaluation Metrics"
   ]
  },
  {
   "cell_type": "code",
   "execution_count": 108,
   "id": "7a20351b-9abc-4220-b006-97352ab094b1",
   "metadata": {},
   "outputs": [
    {
     "name": "stdout",
     "output_type": "stream",
     "text": [
      "Accuracy: 0.65\n"
     ]
    }
   ],
   "source": [
    "print(\"Accuracy:\", accuracy_score(y_test, y_pred))"
   ]
  },
  {
   "cell_type": "code",
   "execution_count": 109,
   "id": "db07d095-8044-4a6e-9c99-d8ea44f07455",
   "metadata": {},
   "outputs": [],
   "source": [
    "cm=confusion_matrix(y_test, y_pred, labels=['positive', 'neutral', 'negative'])"
   ]
  },
  {
   "cell_type": "code",
   "execution_count": 111,
   "id": "bab408f6-c634-4a6e-b9ce-3e6fbf66f34c",
   "metadata": {},
   "outputs": [
    {
     "data": {
      "image/png": "[encoded data removed]",
      "text/plain": [
       "<Figure size 800x600 with 2 Axes>"
      ]
     },
     "metadata": {},
     "output_type": "display_data"
    }
   ],
   "source": [
    "plt.figure(figsize=(8,6))\n",
    "sns.heatmap(cm,annot=True, cmap=\"Blues\",xticklabels=['positive','neutral','negative'],yticklabels=['positive','neutral','negative'])\n",
    "plt.ylabel('Actual')\n",
    "plt.xlabel('Predicted')\n",
    "plt.title('Confusion Matrix')\n",
    "plt.show()"
   ]
  },
  {
   "cell_type": "markdown",
   "id": "684d9846-0250-405e-a16d-f5589c28ab2f",
   "metadata": {},
   "source": [
    "# Model Evaluation for new tweet"
   ]
  },
  {
   "cell_type": "markdown",
   "id": "6335c89d-fef3-4d0d-aab6-e26ce9741bb7",
   "metadata": {},
   "source": [
    "### Negative tweet"
   ]
  },
  {
   "cell_type": "code",
   "execution_count": 141,
   "id": "5b369aa5-4ca1-4b54-88cf-8005e306be58",
   "metadata": {},
   "outputs": [
    {
     "name": "stdout",
     "output_type": "stream",
     "text": [
      "['neutral']\n"
     ]
    }
   ],
   "source": [
    "New_tweet=[\"The story log line is worst\"]\n",
    "New_tweet_tfidf=tfidf.transform(New_tweet)\n",
    "Predicted_sentiment=model.predict(New_tweet_tfidf)\n",
    "print(Predicted_sentiment)"
   ]
  },
  {
   "cell_type": "markdown",
   "id": "de15e08b-8537-4b8a-bf05-969df566e54f",
   "metadata": {},
   "source": [
    "### Positive Tweet"
   ]
  },
  {
   "cell_type": "code",
   "execution_count": 140,
   "id": "efdd5f28-0683-4e3c-b2aa-57b15c775218",
   "metadata": {},
   "outputs": [
    {
     "name": "stdout",
     "output_type": "stream",
     "text": [
      "['positive']\n"
     ]
    }
   ],
   "source": [
    "New_tweet2=[\"The story log line is good\"]\n",
    "New_tweet_tfidf2=tfidf.transform(New_tweet2)\n",
    "Predicted_sentiment2=model.predict(New_tweet_tfidf2)\n",
    "print(Predicted_sentiment2)"
   ]
  },
  {
   "cell_type": "markdown",
   "id": "0d359999-1bc0-40b1-9c66-fc86645df01f",
   "metadata": {},
   "source": [
    "### Neutral tweet"
   ]
  },
  {
   "cell_type": "code",
   "execution_count": 139,
   "id": "fa751d18-d000-4638-8601-bc436317796a",
   "metadata": {},
   "outputs": [
    {
     "name": "stdout",
     "output_type": "stream",
     "text": [
      "['neutral']\n"
     ]
    }
   ],
   "source": [
    "New_tweet3=[\"The story log line is average\"]\n",
    "New_tweet_tfidf3=tfidf.transform(New_tweet3)\n",
    "Predicted_sentiment3=model.predict(New_tweet_tfidf3)\n",
    "print(Predicted_sentiment3)"
   ]
  },
  {
   "cell_type": "markdown",
   "id": "fb82ac9f-b85a-4e4d-b5e8-fb1ef2b0677a",
   "metadata": {},
   "source": [
    "# Conclusion"
   ]
  },
  {
   "cell_type": "markdown",
   "id": "58d68e53-4733-42fb-a1e1-27cfc2cf78b1",
   "metadata": {},
   "source": [
    "- Looking at the Evaluation Metrics and also the model evaluation on new tweets it's clear that the model is able to predict the positive sentimental texts accurately\n",
    "- But the model suffers From neutral and negative segregation.\n",
    "- If we look at the number of samples for Negative posts,it's less than both the positive and neutral posts leading to an imbalanced dataset. The number is nearly half of the neutral postings. This might led to confusion while allocating the type of sentiment to the post.\n",
    "- This can be handled by balancing the dataset i.e. nearly equal number of samples for each sentiment type.\n",
    "- Better results can be achieved by ac"
   ]
  },
  {
   "cell_type": "code",
   "execution_count": null,
   "id": "30d77c1f-b088-4c0d-85ae-1c422088913a",
   "metadata": {},
   "outputs": [],
   "source": []
  }
 ],
 "metadata": {
  "kernelspec": {
   "display_name": "Python [conda env:nlpenv]",
   "language": "python",
   "name": "conda-env-nlpenv-py"
  },
  "language_info": {
   "codemirror_mode": {
    "name": "ipython",
    "version": 3
   },
   "file_extension": ".py",
   "mimetype": "text/x-python",
   "name": "python",
   "nbconvert_exporter": "python",
   "pygments_lexer": "ipython3",
   "version": "3.11.4"
  }
 },
 "nbformat": 4,
 "nbformat_minor": 5
}
